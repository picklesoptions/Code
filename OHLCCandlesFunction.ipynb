{
 "cells": [
  {
   "cell_type": "markdown",
   "metadata": {},
   "source": [
    "# Simple Fuctions To Find And Plot OHLC Candle Plot For Stocks\n",
    "\n",
    "## Sources\n",
    "Idea for the code comes from this article<br>\n",
    "https://www.statology.org/matplotlib-python-candlestick-chart/\n",
    "<br>\n",
    "<br>\n",
    "I prefer this to the mpl finance one because this works better for customizing the plot after the fact than mpl finance. Additonally you can really adjust it to anything you want it to be."
   ]
  },
  {
   "cell_type": "markdown",
   "metadata": {},
   "source": [
    "### Import Packages"
   ]
  },
  {
   "cell_type": "code",
   "execution_count": 4,
   "metadata": {},
   "outputs": [],
   "source": [
    "import matplotlib.pyplot as plt\n",
    "import pandas as pd"
   ]
  },
  {
   "cell_type": "markdown",
   "metadata": {},
   "source": [
    "### Defining The plot_candles() Function\n",
    "<br>\n",
    "I have this set up to take in a DF with columns of 'high', 'close', 'open', 'low'\n",
    "<br>\n",
    "<br>\n",
    "Adjustments to this can be made in the function"
   ]
  },
  {
   "cell_type": "code",
   "execution_count": 5,
   "metadata": {},
   "outputs": [],
   "source": [
    "def plot_candles(df):\n",
    "    df = df.reset_index(drop=True)\n",
    "\n",
    "    up = df[df['close'] > df['open']]\n",
    "    down = df[df['close'] < df['open']]\n",
    "    same = df[df['close'] == df['open']]\n",
    "\n",
    "    up_color = '#35ad31'\n",
    "    down_color = '#de2626'\n",
    "    same_color = '#b0b0b0'\n",
    "    bar_width = df.index[1] - df.index[0]\n",
    "    line_width = bar_width / 6\n",
    "    \n",
    "    if len(up) > 0:\n",
    "        for index, row in up.iterrows():\n",
    "            plt.bar(index, row.close - row.open, width = bar_width, bottom = row.open, edgecolor=up_color,color = 'white')\n",
    "            plt.bar(index, row.high - row.close, width = line_width, bottom = row.close, color=up_color)\n",
    "            plt.bar(index, row.low - row.open, width = line_width, bottom = row.open, color=up_color)\n",
    "    if len(down) > 0:\n",
    "        for index, row in down.iterrows():\n",
    "            plt.bar(index, row.close - row.open, width = bar_width, bottom = row.open, color=down_color)\n",
    "            plt.bar(index, row.high - row.close, width = line_width, bottom = row.close, color=down_color)\n",
    "            plt.bar(index, row.low - row.open, width = line_width, bottom = row.open, color=down_color)\n",
    "    if len(same) > 0:\n",
    "        for index, row in same.iterrows():\n",
    "            plt.bar(index, line_width/2, width = bar_width, bottom = row.open, color=same_color)\n",
    "            plt.bar(index, row.high - row.close, width = line_width, bottom = row.close, color=same_color)\n",
    "            plt.bar(index, row.low - row.open, width = line_width, bottom = row.open, color=same_color)"
   ]
  },
  {
   "cell_type": "markdown",
   "metadata": {},
   "source": [
    "### Example Using yfinance\n",
    "\n",
    "Note that I do not use yfinance for my data"
   ]
  },
  {
   "cell_type": "code",
   "execution_count": 6,
   "metadata": {},
   "outputs": [
    {
     "data": {
      "image/png": "[encoded data removed]",
      "text/plain": [
       "<Figure size 1008x648 with 1 Axes>"
      ]
     },
     "metadata": {
      "needs_background": "light"
     },
     "output_type": "display_data"
    }
   ],
   "source": [
    "import yfinance as yf\n",
    "\n",
    "#Define Variables\n",
    "ticker = 'SPY'\n",
    "timeframe = '1 Day'\n",
    "\n",
    "#Download Data From yfinance\n",
    "data = yf.download(ticker, start='2022-02-01', threads= False, progress = False)\n",
    "data['date'] = pd.to_datetime(data.index)\n",
    "data = data.loc[:,['Open', 'High', 'Low', 'Close']]\n",
    "data.columns = ['open','high','low','close']\n",
    "\n",
    "start = data.index[0].strftime('%m/%d/%Y')\n",
    "end = data.index[-1].strftime('%m/%d/%Y')\n",
    "\n",
    "#Creating the xaxis labels (this could be intigrated into the function as well)\n",
    "xlabels = data.reset_index(drop=False)\n",
    "ticks = list(xlabels.index)\n",
    "labels = list(xlabels['Date'].dt.date)\n",
    "\n",
    "#The axtual plotting\n",
    "plt.rc('figure', figsize=(14.0, 9.0))\n",
    "plot_candles(data)\n",
    "plt.title('{} {}: {} - {}'.format(ticker,timeframe,start,end),pad = 20,fontdict={'size':20})\n",
    "plt.ylabel('Price',fontdict={'size':15})\n",
    "plt.yticks(size=10)\n",
    "plt.xticks(ticks = ticks, labels = labels, rotation = 45,fontdict={'size':9,'ha':'right'})\n",
    "plt.show()\n"
   ]
  }
 ],
 "metadata": {
  "interpreter": {
   "hash": "7e1998ff7f8aa20ada591c520b972326324e5ea05489af9e422744c7c09f6dad"
  },
  "kernelspec": {
   "display_name": "Python 3.10.2 64-bit",
   "language": "python",
   "name": "python3"
  },
  "language_info": {
   "codemirror_mode": {
    "name": "ipython",
    "version": 3
   },
   "file_extension": ".py",
   "mimetype": "text/x-python",
   "name": "python",
   "nbconvert_exporter": "python",
   "pygments_lexer": "ipython3",
   "version": "3.10.2"
  },
  "orig_nbformat": 4
 },
 "nbformat": 4,
 "nbformat_minor": 2
}
